{
 "cells": [
  {
   "cell_type": "code",
   "execution_count": 16,
   "id": "040d32ee",
   "metadata": {
    "id": "040d32ee"
   },
   "outputs": [],
   "source": [
    "import numpy as np\n",
    "import matplotlib.pyplot as plt\n",
    "from quimb import *\n",
    "from scipy import sparse\n",
    "from quimb.linalg.base_linalg import *\n",
    "from qiskit import QuantumCircuit\n",
    "from qiskit import Aer, transpile\n",
    "from qiskit.circuit import Parameter\n",
    "from qiskit.visualization import plot_histogram\n",
    "from scipy.linalg import expm\n",
    "from qiskit.quantum_info import Operator, random_pauli\n",
    "from qiskit.extensions import UnitaryGate"
   ]
  },
  {
   "cell_type": "code",
   "execution_count": 17,
   "id": "5d99f27b",
   "metadata": {},
   "outputs": [
    {
     "name": "stdout",
     "output_type": "stream",
     "text": [
      "[[0.         0.72447269 0.         0.         0.         0.\n",
      "  0.         0.        ]\n",
      " [0.         0.         0.86000674 0.         0.         0.\n",
      "  0.         0.        ]\n",
      " [0.         0.         0.         1.12997739 0.         0.\n",
      "  0.         0.        ]\n",
      " [0.         0.         0.         0.         0.55719538 0.\n",
      "  0.         0.        ]\n",
      " [0.         0.         0.         0.         0.         0.81655576\n",
      "  0.         0.        ]\n",
      " [0.         0.         0.         0.         0.         0.\n",
      "  0.61929484 0.        ]\n",
      " [0.         0.         0.         0.         0.         0.\n",
      "  0.         0.7965723 ]\n",
      " [0.         0.         0.         0.         0.         0.\n",
      "  0.         0.        ]]\n",
      "[-0.51544867  0.51544867 -0.51544867  0.51544867 -0.51544867  0.51544867\n",
      " -0.51544867  0.51544867]\n",
      "Lowest energy from exact Diagonalisation is =  -5.5040750962428255\n"
     ]
    }
   ],
   "source": [
    "N = 8 #Number of qubits\n",
    "J = np.zeros((N,N))\n",
    "for i in range(N-1):\n",
    "    J[i,i+1] = np.random.normal(loc=0.75,scale = 0.25,size=None)\n",
    "print(J)\n",
    "\n",
    "I, X, Y, Z = (pauli(s) for s in 'IXYZ')\n",
    "\n",
    "def dis_ising(J,N):\n",
    "    M = 2**N # DImension of hilbert space\n",
    "    H = np.zeros((M,M))\n",
    "    for i in range(N-1):\n",
    "        H = H + J[i,i+1]*ikron(Z,dims = [2]*N,inds = [i,i+1])\n",
    "    return H\n",
    "\n",
    "H = dis_ising(J, N)\n",
    "# U = expm(H*dt)\n",
    "\n",
    "gs = groundstate(H)\n",
    "# print(gs)\n",
    "# test_state = kron(up(), down(), up(), up())\n",
    "# print(expec(test_state, H))\n",
    "\n",
    "m = np.zeros((N))\n",
    "for i in range(N):\n",
    "    rho_red = ptr(gs,dims = [2]*N, keep = i)\n",
    "    m[i] = expec(Z,rho_red)\n",
    "print(m)\n",
    "\n",
    "\n",
    "analytical_groundstate_energy = expec(H,gs)\n",
    "print(\"Lowest energy from exact Diagonalisation is = \", analytical_groundstate_energy)"
   ]
  },
  {
   "cell_type": "code",
   "execution_count": 66,
   "id": "c5ae3daf",
   "metadata": {},
   "outputs": [],
   "source": [
    "def scaling(x):\n",
    "    if x <= 0.5:\n",
    "        y = 0.5 * np.sin(np.pi * x)\n",
    "    elif x > 0.5:\n",
    "        y = 1 - 0.5 * np.sin(np.pi * x)\n",
    "    # y = (x-0.5)**3+1/2\n",
    "    return y\n",
    "\n",
    "\n",
    "def a(t):\n",
    "    a = scaling(t)\n",
    "    return a\n",
    "def b(t):\n",
    "    b = 1 - scaling(t)\n",
    "    return b\n",
    "\n",
    "\n",
    "def single_q_error(qc,p1,i):\n",
    "    draw = np.random.uniform(0.0,1.0)\n",
    "    pauli_error = UnitaryGate(random_pauli(1))\n",
    "    if draw<p1:\n",
    "        return qc.append(pauli_error,[i])\n",
    "def two_q_error(qc,p2,i,j):\n",
    "    draw = np.random.uniform(0.0,1.0)\n",
    "    pauli_error = UnitaryGate(random_pauli(1))\n",
    "    qubit_location = np.random.choice([i,j])\n",
    "    if draw<p2:\n",
    "        return qc.append(pauli_error,[qubit_location])\n",
    "\n",
    "def GSA_approx(T, L, J, p1,p2):\n",
    "    #p1: Single qubit gate error \n",
    "    #p2: 2 qubit gate error\n",
    "    dt = T/L                    # time step\n",
    "    qc = QuantumCircuit(N)\n",
    "    for qubit in range(0, N):  # creating uniform superposition\n",
    "        single_q_error(qc,p1,qubit)\n",
    "        qc.h(qubit)\n",
    "        single_q_error(qc,p1,qubit)\n",
    "    for k in range(L):\n",
    "        for i in range(N-2, -1, -2): #even bonds\n",
    "            j = i+1\n",
    "            two_q_error(qc,p2,i,j)\n",
    "            qc.rzz(-0.1* a(k/L) * J[i, j] * dt, j, i)\n",
    "            two_q_error(qc,p2,i,j)\n",
    "        for i in range(0, N, 2): #even bonds      # H_D = uniform X field as the Driver Hamiltonian\n",
    "            single_q_error(qc,p1,i)\n",
    "            qc.rx(0.1 * b(k/L) * dt, i)\n",
    "            single_q_error(qc,p1,i)\n",
    "        for i in range(N-3, -1, -2): #odd bonds\n",
    "            j = i+1\n",
    "            two_q_error(qc,p2,i,j)\n",
    "            qc.rzz(-0.1 * a(k/L) * J[i, j] * dt, j, i)\n",
    "            two_q_error(qc,p2,i,j)\n",
    "        for i in range(1, N-1, 2): #odd bonds      # H_D = uniform X field as the Driver Hamiltonian\n",
    "            single_q_error(qc,p1,i)\n",
    "            qc.rx(0.1 * b(k/L) * dt, i)\n",
    "            single_q_error(qc,p1,i)\n",
    "    qc.measure_all()\n",
    "    return qc\n",
    "\n",
    "def measure_circuit(qc):\n",
    "    num_shots_per_point = 10\n",
    "    sim = Aer.get_backend('aer_simulator')\n",
    "    t_qc = transpile(qc, sim)\n",
    "    counts = sim.run(t_qc, shots=num_shots_per_point).result().get_counts()\n",
    "    expectation_z = 0\n",
    "    for key in counts:\n",
    "        bitstring = key\n",
    "        for m in range(N-1, 0, -1):\n",
    "            expectation_z += J[N-m-1, N-m]*(int(counts[key]) * (-1) ** (int(bitstring[m-1]) + int(bitstring[m])))\n",
    "    expectation_z = expectation_z / num_shots_per_point\n",
    "    return expectation_z\n",
    "\n",
    "\n",
    "\n"
   ]
  },
  {
   "cell_type": "code",
   "execution_count": 83,
   "id": "943e609b",
   "metadata": {},
   "outputs": [
    {
     "name": "stdout",
     "output_type": "stream",
     "text": [
      "-5.220634672779761\n"
     ]
    }
   ],
   "source": [
    "T = 100*np.pi       #final time\n",
    "L = 16\n",
    "#print(GSA_approx(T,L,J,1.0,1.0))\n",
    "print(measure_circuit(GSA_approx(T,L,J,p1,p2)))"
   ]
  },
  {
   "cell_type": "code",
   "execution_count": 69,
   "id": "4a037a56",
   "metadata": {},
   "outputs": [
    {
     "name": "stdout",
     "output_type": "stream",
     "text": [
      "[-3.1991621906733316, -5.123882515259277, -5.000023546537205, -5.012443440196441, -4.474293084197094, -4.994026826025931, -2.7458682617669377, -4.219567114995356, -2.6280805357698895, -4.445285185061126, -3.09983055126869, -4.299631835963326, -2.997292099154972, -4.643675478291264, -4.972916735335615, -4.493704972948467, -3.2531483892107405, -3.5713515635510618, -4.83444537128494, -4.774028068262252, -5.012443440196442, -5.268777052457915, -2.816390127805625, -1.760028068797228, -4.656362366470805, -5.006446719685168, -4.275902790966953, -2.0235943916353127, -2.991506420236205, -1.3795951983943537, -4.67451198612101, -3.062568307482084, -2.6281512312460182, -3.246918394904964, -3.1305530644627875, -5.22932486981084, -3.168739120784177, -3.847566357199665, -2.379326867864743, -4.305554034260849, -4.876164577815131, -2.2774613082893156, -5.084355810398454, -5.28119694611715, -4.773883097947548, -5.136302408918513, -2.7704752995886914, -3.0842196120146914, -3.0397047528421597, -5.16007239944237, -3.829763584613616, -3.1802787662186316, -2.9063367481492413, -4.737693213764457, -2.528496245607098, -4.651286398326644, -0.5845527756674807, -5.166640542905034, -4.420722805951841, -3.232803568651317, -4.325743372584052, -4.602293714382328, -3.3120773741394403, -3.4748056596031787, -3.9956936902888187, -2.83903940615895, -0.8474415629062781, -4.5836846279052645, -3.752777501666845, -5.157337977395079, -4.828096720350727, -4.526239682717153, -3.637254544153515, -4.396569909325995, -5.055201467842197, -3.3827396849309985, -2.7923559860408496, -3.6305295435816816, -3.8106600797504795, -4.695123702968102, -4.949881137496236, -2.9895082853449733, -4.840442091796214, -3.4372986812927495, -4.62625413870162, -4.25875455852153, -2.93503162387864, -4.38245441473503, -3.3891194555837942, -2.0675596464677826, -0.19049869564104188, -4.574382062395308, -4.277526470692146, -4.662588993199414, -5.1091955977169246, -3.157324471554236, -3.87036868124454, -5.075740135581123, -5.28119694611715, -4.750038585209942]\n",
      "completed\n"
     ]
    }
   ],
   "source": [
    "#T = 100*np.pi\n",
    "L= 15\n",
    "num_points = 1\n",
    "Tlist =np.linspace(60*np.pi,150*np.pi,num_points) \n",
    "#Llist = np.linspace(10,200,num_points,dtype=int)\n",
    "approx = np.zeros((num_points))\n",
    "p1 = 0.0005\n",
    "p2 = 0.005\n",
    "for i in range(num_points):\n",
    "    #print(i)\n",
    "    #approx[i]=np.abs(np.abs(analytical_groundstate_energy)-np.abs(measure_circuit(GSA_approx(T,Llist[i],J))))\n",
    "    #print(measure_circuit(GSA_approx(Tlist[i],L,J)))\n",
    "    noisy_measurement = [measure_circuit(GSA_approx(Tlist[i],L,J,p1,p2)) for k in range(100)]\n",
    "    print(noisy_measurement)\n",
    "    #approx[i]=np.abs(np.abs(analytical_groundstate_energy)-np.abs())\n",
    "print(\"completed\")"
   ]
  },
  {
   "cell_type": "code",
   "execution_count": 65,
   "id": "fa514861",
   "metadata": {
    "scrolled": true
   },
   "outputs": [
    {
     "data": {
      "image/png": "[encoded data removed]",
      "text/plain": [
       "<Figure size 640x480 with 1 Axes>"
      ]
     },
     "metadata": {},
     "output_type": "display_data"
    }
   ],
   "source": [
    "plt.plot(Tlist,approx)\n",
    "#plt.xlabel('L')\n",
    "plt.xlabel('T')\n",
    "plt.ylabel('ΔE')\n",
    "plt.title(\"Ground State approximation\")\n",
    "#plt.savefig(\"Groundstateapprox_vs_T(L=15).pdf\")\n",
    "#plt.savefig(\"Groundstateapprox_vs_L(fixed T).pdf\")\n",
    "plt.show()"
   ]
  },
  {
   "cell_type": "code",
   "execution_count": null,
   "id": "01f266bf",
   "metadata": {},
   "outputs": [],
   "source": []
  }
 ],
 "metadata": {
  "colab": {
   "provenance": []
  },
  "kernelspec": {
   "display_name": "Python 3 (ipykernel)",
   "language": "python",
   "name": "python3"
  },
  "language_info": {
   "codemirror_mode": {
    "name": "ipython",
    "version": 3
   },
   "file_extension": ".py",
   "mimetype": "text/x-python",
   "name": "python",
   "nbconvert_exporter": "python",
   "pygments_lexer": "ipython3",
   "version": "3.10.9"
  }
 },
 "nbformat": 4,
 "nbformat_minor": 5
}
