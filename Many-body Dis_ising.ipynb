{
 "cells": [
  {
   "cell_type": "code",
   "execution_count": 166,
   "id": "a2511bd8",
   "metadata": {},
   "outputs": [],
   "source": [
    "import numpy as np\n",
    "import matplotlib.pyplot as plt\n",
    "from quimb import *\n",
    "from scipy import sparse\n",
    "from quimb.linalg.base_linalg import *"
   ]
  },
  {
   "cell_type": "code",
   "execution_count": 167,
   "id": "947e0ce7",
   "metadata": {},
   "outputs": [],
   "source": [
    "n = 8 #Number of qubits\n",
    "\n",
    "P = np.random.choice([-1,1],size=(n,n))\n",
    "J = (P + P.T)/2"
   ]
  },
  {
   "cell_type": "code",
   "execution_count": 168,
   "id": "89894acd",
   "metadata": {},
   "outputs": [
    {
     "data": {
      "text/plain": [
       "array([[ 1., -1.,  0.,  0.,  0.,  0., -1.,  0.],\n",
       "       [-1.,  1.,  1.,  1.,  0.,  1.,  1., -1.],\n",
       "       [ 0.,  1.,  1.,  0.,  0.,  0.,  0.,  1.],\n",
       "       [ 0.,  1.,  0.,  1., -1.,  0.,  0.,  1.],\n",
       "       [ 0.,  0.,  0., -1.,  1.,  1.,  0.,  0.],\n",
       "       [ 0.,  1.,  0.,  0.,  1.,  1.,  0.,  1.],\n",
       "       [-1.,  1.,  0.,  0.,  0.,  0.,  1.,  1.],\n",
       "       [ 0., -1.,  1.,  1.,  0.,  1.,  1., -1.]])"
      ]
     },
     "execution_count": 168,
     "metadata": {},
     "output_type": "execute_result"
    }
   ],
   "source": [
    "J #Interactions"
   ]
  },
  {
   "cell_type": "code",
   "execution_count": 169,
   "id": "64f0169c",
   "metadata": {},
   "outputs": [],
   "source": [
    "I, X, Y, Z = (pauli(s) for s in 'IXYZ')"
   ]
  },
  {
   "cell_type": "code",
   "execution_count": 170,
   "id": "3e6c2b8d",
   "metadata": {},
   "outputs": [],
   "source": [
    "def dis_ising(J,n):\n",
    "    N = 2**n # DImension of hilbert space\n",
    "    H = np.zeros((N,N))\n",
    "    for i in range(n):\n",
    "        for j in range(n):\n",
    "            H = H + J[i,j]*ikron(Z,dims = [2]*n,inds = [i,j])\n",
    "    return H\n",
    "    "
   ]
  },
  {
   "cell_type": "code",
   "execution_count": 171,
   "id": "17532c9e",
   "metadata": {},
   "outputs": [],
   "source": [
    "DIS = dis_ising(J,n)"
   ]
  },
  {
   "cell_type": "code",
   "execution_count": 172,
   "id": "d16bf316",
   "metadata": {},
   "outputs": [],
   "source": [
    "gs = groundstate(DIS)"
   ]
  },
  {
   "cell_type": "code",
   "execution_count": 173,
   "id": "ea00bd8d",
   "metadata": {},
   "outputs": [
    {
     "name": "stdout",
     "output_type": "stream",
     "text": [
      "(256, 1)\n"
     ]
    }
   ],
   "source": [
    "print(np.shape(gs))"
   ]
  },
  {
   "cell_type": "code",
   "execution_count": 174,
   "id": "85f3cda0",
   "metadata": {},
   "outputs": [],
   "source": [
    "tlist = np.linspace(0,1,100)"
   ]
  },
  {
   "cell_type": "code",
   "execution_count": 175,
   "id": "bf42c755",
   "metadata": {},
   "outputs": [
    {
     "data": {
      "text/plain": [
       "array([0.        , 0.01010101, 0.02020202, 0.03030303, 0.04040404,\n",
       "       0.05050505, 0.06060606, 0.07070707, 0.08080808, 0.09090909,\n",
       "       0.1010101 , 0.11111111, 0.12121212, 0.13131313, 0.14141414,\n",
       "       0.15151515, 0.16161616, 0.17171717, 0.18181818, 0.19191919,\n",
       "       0.2020202 , 0.21212121, 0.22222222, 0.23232323, 0.24242424,\n",
       "       0.25252525, 0.26262626, 0.27272727, 0.28282828, 0.29292929,\n",
       "       0.3030303 , 0.31313131, 0.32323232, 0.33333333, 0.34343434,\n",
       "       0.35353535, 0.36363636, 0.37373737, 0.38383838, 0.39393939,\n",
       "       0.4040404 , 0.41414141, 0.42424242, 0.43434343, 0.44444444,\n",
       "       0.45454545, 0.46464646, 0.47474747, 0.48484848, 0.49494949,\n",
       "       0.50505051, 0.51515152, 0.52525253, 0.53535354, 0.54545455,\n",
       "       0.55555556, 0.56565657, 0.57575758, 0.58585859, 0.5959596 ,\n",
       "       0.60606061, 0.61616162, 0.62626263, 0.63636364, 0.64646465,\n",
       "       0.65656566, 0.66666667, 0.67676768, 0.68686869, 0.6969697 ,\n",
       "       0.70707071, 0.71717172, 0.72727273, 0.73737374, 0.74747475,\n",
       "       0.75757576, 0.76767677, 0.77777778, 0.78787879, 0.7979798 ,\n",
       "       0.80808081, 0.81818182, 0.82828283, 0.83838384, 0.84848485,\n",
       "       0.85858586, 0.86868687, 0.87878788, 0.88888889, 0.8989899 ,\n",
       "       0.90909091, 0.91919192, 0.92929293, 0.93939394, 0.94949495,\n",
       "       0.95959596, 0.96969697, 0.97979798, 0.98989899, 1.        ])"
      ]
     },
     "execution_count": 175,
     "metadata": {},
     "output_type": "execute_result"
    }
   ],
   "source": [
    "tlist"
   ]
  },
  {
   "cell_type": "code",
   "execution_count": 176,
   "id": "9bff1bf9",
   "metadata": {},
   "outputs": [],
   "source": [
    "E = np.zeros((len(tlist),n))"
   ]
  },
  {
   "cell_type": "code",
   "execution_count": 183,
   "id": "b4cd7b8b",
   "metadata": {},
   "outputs": [],
   "source": [
    "from scipy.linalg import expm\n",
    "state = np.random.randn((N))\n",
    "dt = tlist[2]-tlist[1]\n",
    "for i in range(len(tlist)):\n",
    "    for j in range(n):\n",
    "        rho_reduced = ptr(state, dims = [2]*n, keep = [j])\n",
    "        E[i,j] = entropy(rho_reduced)\n",
    "    state = expm(-1J*DIS*dt)@state"
   ]
  },
  {
   "cell_type": "code",
   "execution_count": 184,
   "id": "889fac99",
   "metadata": {},
   "outputs": [
    {
     "data": {
      "text/plain": [
       "<matplotlib.image.AxesImage at 0x26f07214fd0>"
      ]
     },
     "execution_count": 184,
     "metadata": {},
     "output_type": "execute_result"
    },
    {
     "data": {
      "image/png": "[encoded data removed]",
      "text/plain": [
       "<Figure size 640x480 with 1 Axes>"
      ]
     },
     "metadata": {},
     "output_type": "display_data"
    }
   ],
   "source": [
    "plt.imshow(E)"
   ]
  },
  {
   "cell_type": "code",
   "execution_count": null,
   "id": "483f8e07",
   "metadata": {},
   "outputs": [],
   "source": []
  },
  {
   "cell_type": "code",
   "execution_count": null,
   "id": "ec8b58cd",
   "metadata": {},
   "outputs": [],
   "source": []
  },
  {
   "cell_type": "code",
   "execution_count": null,
   "id": "e6b88f0e",
   "metadata": {},
   "outputs": [],
   "source": []
  },
  {
   "cell_type": "code",
   "execution_count": null,
   "id": "388d4f58",
   "metadata": {},
   "outputs": [],
   "source": []
  },
  {
   "cell_type": "code",
   "execution_count": null,
   "id": "ccfac886",
   "metadata": {},
   "outputs": [],
   "source": []
  },
  {
   "cell_type": "code",
   "execution_count": null,
   "id": "b4f9d1ab",
   "metadata": {},
   "outputs": [],
   "source": []
  },
  {
   "cell_type": "code",
   "execution_count": null,
   "id": "aaff69c5",
   "metadata": {},
   "outputs": [],
   "source": []
  },
  {
   "cell_type": "code",
   "execution_count": null,
   "id": "fb9e444a",
   "metadata": {},
   "outputs": [],
   "source": []
  },
  {
   "cell_type": "code",
   "execution_count": null,
   "id": "3f6fa167",
   "metadata": {},
   "outputs": [],
   "source": []
  },
  {
   "cell_type": "code",
   "execution_count": null,
   "id": "3fe15dfb",
   "metadata": {},
   "outputs": [],
   "source": []
  }
 ],
 "metadata": {
  "kernelspec": {
   "display_name": "Python 3 (ipykernel)",
   "language": "python",
   "name": "python3"
  },
  "language_info": {
   "codemirror_mode": {
    "name": "ipython",
    "version": 3
   },
   "file_extension": ".py",
   "mimetype": "text/x-python",
   "name": "python",
   "nbconvert_exporter": "python",
   "pygments_lexer": "ipython3",
   "version": "3.9.13"
  }
 },
 "nbformat": 4,
 "nbformat_minor": 5
}
