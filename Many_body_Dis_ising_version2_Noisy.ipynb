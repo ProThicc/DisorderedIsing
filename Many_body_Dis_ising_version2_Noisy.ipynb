{
 "cells": [
  {
   "cell_type": "code",
   "execution_count": 3,
   "id": "040d32ee",
   "metadata": {
    "id": "040d32ee"
   },
   "outputs": [],
   "source": [
    "import numpy as np\n",
    "import matplotlib.pyplot as plt\n",
    "from quimb import *\n",
    "from scipy import sparse\n",
    "from quimb.linalg.base_linalg import *\n",
    "from qiskit import QuantumCircuit\n",
    "from qiskit import Aer, transpile\n",
    "from qiskit.circuit import Parameter\n",
    "from qiskit.visualization import plot_histogram\n",
    "from scipy.linalg import expm\n",
    "from qiskit.quantum_info import Operator"
   ]
  },
  {
   "cell_type": "code",
   "execution_count": 53,
   "id": "274d1602",
   "metadata": {},
   "outputs": [
    {
     "name": "stdout",
     "output_type": "stream",
     "text": [
      "[[ 0.  1.  0.  0.]\n",
      " [ 0.  0.  1.  0.]\n",
      " [ 0.  0.  0. -1.]\n",
      " [ 0.  0.  0.  0.]]\n",
      "Lowest energy from exact Diagonalisation is =  -3.0\n"
     ]
    }
   ],
   "source": [
    "N = 4 #Number of qubits\n",
    "\n",
    "J = np.zeros((N,N))\n",
    "for i in range(N-1):\n",
    "    J[i,i+1] = np.random.choice([-1, 1])\n",
    "\n",
    "print(J)\n",
    "\n",
    "I, X, Y, Z = (pauli(s) for s in 'IXYZ')\n",
    "\n",
    "def dis_ising(J,N):\n",
    "    M = 2**N # DImension of hilbert space\n",
    "    H = np.zeros((M,M))\n",
    "    for i in range(N-1):\n",
    "        H = H + J[i,i+1]*ikron(Z,dims = [2]*N,inds = [i,i+1])\n",
    "    return H\n",
    "\n",
    "H = dis_ising(J, N)\n",
    "# U = expm(H*dt)\n",
    "\n",
    "gs = groundstate(H)\n",
    "# print(gs)\n",
    "# test_state = kron(up(), down(), up(), up())\n",
    "# print(expec(test_state, H))\n",
    "\n",
    "#m = np.zeros((N))\n",
    "#for i in range(N):\n",
    "#    rho_red = ptr(gs,dims = [2]*N, keep = i)\n",
    "#    m[i] = expec(Z,rho_red)\n",
    "#print(m)\n",
    "\n",
    "\n",
    "analytical_groundstate_energy = expec(H,gs)\n",
    "print(\"Lowest energy from exact Diagonalisation is = \", analytical_groundstate_energy)"
   ]
  },
  {
   "cell_type": "code",
   "execution_count": 55,
   "id": "531efd21",
   "metadata": {},
   "outputs": [
    {
     "name": "stdout",
     "output_type": "stream",
     "text": [
      "0.7148092955521028\n"
     ]
    }
   ],
   "source": [
    "r =np.random.random()\n",
    "print(r)\n"
   ]
  },
  {
   "cell_type": "code",
   "execution_count": 56,
   "id": "2183cebf",
   "metadata": {},
   "outputs": [],
   "source": [
    "\n",
    "def scaling(x):\n",
    "        return x**2 #Linear Scaling\n",
    "def a(t):\n",
    "    a = scaling(t)\n",
    "    return a\n",
    "def b(t):\n",
    "    b = 1 - scaling(t)\n",
    "    return b\n",
    "\n",
    "def GSA_approx(T,L,J):\n",
    "    dt = T/L          # time step\n",
    "    ts = np.linspace(0, T, L)\n",
    "    qc = QuantumCircuit(N)\n",
    "    r = np.random.random()\n",
    "    error_qubit = np.random.randint(0,N-1)\n",
    "    if r < 1/4:\n",
    "            qc.i(error_qubit)\n",
    "    elif 1/4<=r<1/2:\n",
    "        qc.x(error_qubit)\n",
    "    elif 1/2<=r<3/4:\n",
    "        qc.y(error_qubit)\n",
    "    elif 3/4<=r<=1:\n",
    "        qc.z(error_qubit)\n",
    "    for qubit in range(0, N): # creating uniform superposition\n",
    "        qc.h(qubit)\n",
    "    r = np.random.random()\n",
    "    error_qubit = np.random.randint(0,N-1)\n",
    "    if r < 1/4:\n",
    "        qc.i(error_qubit)\n",
    "    elif 1/4<=r<1/2:\n",
    "        qc.x(error_qubit)\n",
    "    elif 1/2<=r<3/4:\n",
    "        qc.y(error_qubit)\n",
    "    elif 3/4<=r<=1:\n",
    "        qc.z(error_qubit)\n",
    "    for k in range(L):\n",
    "        for i in range(N-2, -1, -2): #even bonds\n",
    "            j = i+1\n",
    "            qc.rzz(-np.pi * a(k/L) * J[i, j] * dt, j, i)\n",
    "        r = np.random.random()\n",
    "        error_qubit = np.random.randint(0,N-1)\n",
    "        if r < 1/4:\n",
    "            qc.i(error_qubit)\n",
    "        elif 1/4<=r<1/2:\n",
    "            qc.x(error_qubit)\n",
    "        elif 1/2<=r<3/4:\n",
    "            qc.y(error_qubit)\n",
    "        elif 3/4<=r<=1:\n",
    "            qc.z(error_qubit)\n",
    "        for i in range(0, N, 2): #even bonds      # H_D = uniform X field as the Driver Hamiltonian\n",
    "            qc.rx(np.pi * b(k/L) * dt, i)\n",
    "        r = np.random.random()\n",
    "        error_qubit = np.random.randint(0,N-1)\n",
    "        if r < 1/4:\n",
    "            qc.i(error_qubit)\n",
    "        elif 1/4<=r<1/2:\n",
    "            qc.x(error_qubit)\n",
    "        elif 1/2<=r<3/4:\n",
    "            qc.y(error_qubit)\n",
    "        elif 3/4<=r<=1:\n",
    "            qc.z(error_qubit)\n",
    "        for i in range(N-3, -1, -2): #odd bonds\n",
    "            j = i+1\n",
    "            qc.rzz(-np.pi * a(k/L) * J[i, j] * dt, j, i)\n",
    "        r = np.random.random()\n",
    "        error_qubit = np.random.randint(0,N-1)\n",
    "        if r < 1/4:\n",
    "            qc.i(error_qubit)\n",
    "        elif 1/4<=r<1/2:\n",
    "            qc.x(error_qubit)\n",
    "        elif 1/2<=r<3/4:\n",
    "            qc.y(error_qubit)\n",
    "        elif 3/4<=r<=1:\n",
    "            qc.z(error_qubit)\n",
    "        for i in range(1, N-1, 2): #odd bonds      # H_D = uniform X field as the Driver Hamiltonian\n",
    "            qc.rx(np.pi * b(k/L) * dt, i)\n",
    "        r = np.random.random()\n",
    "        error_qubit = np.random.randint(0,N-1)\n",
    "        if r < 1/4:\n",
    "            qc.i(error_qubit)\n",
    "        elif 1/4<=r<1/2:\n",
    "            qc.x(error_qubit)\n",
    "        elif 1/2<=r<3/4:\n",
    "            qc.y(error_qubit)\n",
    "        elif 3/4<=r<=1:\n",
    "            qc.z(error_qubit)\n",
    "    qc.measure_all()\n",
    "    num_shots_per_point = 100\n",
    "    sim = Aer.get_backend('aer_simulator')\n",
    "    t_qc = transpile(qc, sim)\n",
    "    counts = sim.run(t_qc, shots=num_shots_per_point).result().get_counts()\n",
    "    expectation_z = 0\n",
    "    for key in counts:\n",
    "        bitstring = key\n",
    "        for m in range(N-1, 0, -1):\n",
    "            expectation_z += J[N-m-1, N-m]*(int(counts[key]) * (-1) ** (int(bitstring[m-1]) + int(bitstring[m])))\n",
    "    expectation_z = expectation_z / num_shots_per_point\n",
    "    return expectation_z\n",
    "\n",
    "\n",
    "\n",
    "\n",
    "\n"
   ]
  },
  {
   "cell_type": "code",
   "execution_count": 57,
   "id": "31091c42",
   "metadata": {},
   "outputs": [
    {
     "data": {
      "text/plain": [
       "0.52"
      ]
     },
     "execution_count": 57,
     "metadata": {},
     "output_type": "execute_result"
    }
   ],
   "source": [
    "T = 20*np.pi       #final time\n",
    "L = 100\n",
    "#number of time steps\n",
    "GSA_approx(T,L,J)"
   ]
  },
  {
   "cell_type": "code",
   "execution_count": null,
   "id": "82dc8033",
   "metadata": {},
   "outputs": [
    {
     "name": "stdout",
     "output_type": "stream",
     "text": [
      "0\n"
     ]
    }
   ],
   "source": [
    "Tlist= np.linspace(10*np.pi,40*np.pi,30)\n",
    "error_shots = 1000\n",
    "L = 100\n",
    "\n",
    "approx = np.zeros((30))\n",
    "for i in range(30):\n",
    "    print(i)\n",
    "    for j in range(error_shots):\n",
    "        approx[i]= approx[i]+ np.abs(np.abs(analytical_groundstate_energy)-np.abs(GSA_approx(Tlist[i],L,J)))\n",
    "    approx[i] = approx[i]/error_shots"
   ]
  },
  {
   "cell_type": "code",
   "execution_count": 58,
   "id": "c3ec02b9",
   "metadata": {},
   "outputs": [
    {
     "data": {
      "image/png": "[encoded data removed]",
      "text/plain": [
       "<Figure size 640x480 with 1 Axes>"
      ]
     },
     "metadata": {},
     "output_type": "display_data"
    }
   ],
   "source": [
    "plt.plot(Tlist,approx)\n",
    "plt.show()"
   ]
  },
  {
   "cell_type": "code",
   "execution_count": null,
   "id": "56490288",
   "metadata": {},
   "outputs": [],
   "source": []
  }
 ],
 "metadata": {
  "colab": {
   "provenance": []
  },
  "kernelspec": {
   "display_name": "Python 3 (ipykernel)",
   "language": "python",
   "name": "python3"
  },
  "language_info": {
   "codemirror_mode": {
    "name": "ipython",
    "version": 3
   },
   "file_extension": ".py",
   "mimetype": "text/x-python",
   "name": "python",
   "nbconvert_exporter": "python",
   "pygments_lexer": "ipython3",
   "version": "3.10.9"
  }
 },
 "nbformat": 4,
 "nbformat_minor": 5
}
